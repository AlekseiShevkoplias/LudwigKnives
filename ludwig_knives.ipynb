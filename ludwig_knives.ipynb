{
  "nbformat": 4,
  "nbformat_minor": 0,
  "metadata": {
    "colab": {
      "name": "ludwig_knives.ipynb",
      "provenance": [],
      "mount_file_id": "1YZq2IZNVqis1-l7J1ufq58AQNhGWefJZ",
      "authorship_tag": "ABX9TyMzwTyfQINvZvmlaccBEzdG"
    },
    "kernelspec": {
      "name": "python3",
      "display_name": "Python 3"
    }
  },
  "cells": [
    {
      "cell_type": "code",
      "metadata": {
        "id": "VkEoucrfMdrl",
        "colab_type": "code",
        "outputId": "a73404a4-101a-4706-c4f4-0833589a3239",
        "colab": {
          "base_uri": "https://localhost:8080/",
          "height": 1000
        }
      },
      "source": [
        "# Установить людвиг, если он не установлен\n",
        "!pip install ludwig"
      ],
      "execution_count": 1,
      "outputs": [
        {
          "output_type": "stream",
          "text": [
            "Collecting ludwig\n",
            "\u001b[?25l  Downloading https://files.pythonhosted.org/packages/1f/b6/8c5d8ee36997f31c1e9756b5ebb83d942f21e79287453cd525eac46e5801/ludwig-0.2.2.7.tar.gz (172kB)\n",
            "\r\u001b[K     |██                              | 10kB 16.1MB/s eta 0:00:01\r\u001b[K     |███▉                            | 20kB 1.7MB/s eta 0:00:01\r\u001b[K     |█████▊                          | 30kB 2.2MB/s eta 0:00:01\r\u001b[K     |███████▋                        | 40kB 2.5MB/s eta 0:00:01\r\u001b[K     |█████████▌                      | 51kB 2.0MB/s eta 0:00:01\r\u001b[K     |███████████▍                    | 61kB 2.1MB/s eta 0:00:01\r\u001b[K     |█████████████▎                  | 71kB 2.4MB/s eta 0:00:01\r\u001b[K     |███████████████▏                | 81kB 2.6MB/s eta 0:00:01\r\u001b[K     |█████████████████               | 92kB 2.8MB/s eta 0:00:01\r\u001b[K     |███████████████████             | 102kB 2.7MB/s eta 0:00:01\r\u001b[K     |█████████████████████           | 112kB 2.7MB/s eta 0:00:01\r\u001b[K     |██████████████████████▉         | 122kB 2.7MB/s eta 0:00:01\r\u001b[K     |████████████████████████▊       | 133kB 2.7MB/s eta 0:00:01\r\u001b[K     |██████████████████████████▋     | 143kB 2.7MB/s eta 0:00:01\r\u001b[K     |████████████████████████████▌   | 153kB 2.7MB/s eta 0:00:01\r\u001b[K     |██████████████████████████████▍ | 163kB 2.7MB/s eta 0:00:01\r\u001b[K     |████████████████████████████████| 174kB 2.7MB/s \n",
            "\u001b[?25hRequirement already satisfied: Cython>=0.25 in /usr/local/lib/python3.6/dist-packages (from ludwig) (0.29.19)\n",
            "Requirement already satisfied: h5py>=2.6 in /usr/local/lib/python3.6/dist-packages (from ludwig) (2.10.0)\n",
            "Requirement already satisfied: numpy>=1.15 in /usr/local/lib/python3.6/dist-packages (from ludwig) (1.18.4)\n",
            "Requirement already satisfied: pandas>=0.19 in /usr/local/lib/python3.6/dist-packages (from ludwig) (1.0.4)\n",
            "Requirement already satisfied: scipy>=0.18 in /usr/local/lib/python3.6/dist-packages (from ludwig) (1.4.1)\n",
            "Requirement already satisfied: tabulate>=0.7 in /usr/local/lib/python3.6/dist-packages (from ludwig) (0.8.7)\n",
            "Requirement already satisfied: scikit-learn in /usr/local/lib/python3.6/dist-packages (from ludwig) (0.22.2.post1)\n",
            "Requirement already satisfied: tqdm in /usr/local/lib/python3.6/dist-packages (from ludwig) (4.41.1)\n",
            "Collecting tensorflow==1.15.3\n",
            "\u001b[?25l  Downloading https://files.pythonhosted.org/packages/02/36/9a02e27f0ec248b676a380ffe910c1858e3af3027c0d4d513dd0b56a5613/tensorflow-1.15.3-cp36-cp36m-manylinux2010_x86_64.whl (110.5MB)\n",
            "\u001b[K     |████████████████████████████████| 110.5MB 50kB/s \n",
            "\u001b[?25hRequirement already satisfied: PyYAML>=3.12 in /usr/local/lib/python3.6/dist-packages (from ludwig) (3.13)\n",
            "Requirement already satisfied: absl-py in /usr/local/lib/python3.6/dist-packages (from ludwig) (0.9.0)\n",
            "Requirement already satisfied: six in /usr/local/lib/python3.6/dist-packages (from h5py>=2.6->ludwig) (1.12.0)\n",
            "Requirement already satisfied: python-dateutil>=2.6.1 in /usr/local/lib/python3.6/dist-packages (from pandas>=0.19->ludwig) (2.8.1)\n",
            "Requirement already satisfied: pytz>=2017.2 in /usr/local/lib/python3.6/dist-packages (from pandas>=0.19->ludwig) (2018.9)\n",
            "Requirement already satisfied: joblib>=0.11 in /usr/local/lib/python3.6/dist-packages (from scikit-learn->ludwig) (0.15.1)\n",
            "Collecting gast==0.2.2\n",
            "  Downloading https://files.pythonhosted.org/packages/4e/35/11749bf99b2d4e3cceb4d55ca22590b0d7c2c62b9de38ac4a4a7f4687421/gast-0.2.2.tar.gz\n",
            "Requirement already satisfied: wheel>=0.26; python_version >= \"3\" in /usr/local/lib/python3.6/dist-packages (from tensorflow==1.15.3->ludwig) (0.34.2)\n",
            "Requirement already satisfied: astor>=0.6.0 in /usr/local/lib/python3.6/dist-packages (from tensorflow==1.15.3->ludwig) (0.8.1)\n",
            "Requirement already satisfied: google-pasta>=0.1.6 in /usr/local/lib/python3.6/dist-packages (from tensorflow==1.15.3->ludwig) (0.2.0)\n",
            "Requirement already satisfied: keras-preprocessing>=1.0.5 in /usr/local/lib/python3.6/dist-packages (from tensorflow==1.15.3->ludwig) (1.1.2)\n",
            "Requirement already satisfied: opt-einsum>=2.3.2 in /usr/local/lib/python3.6/dist-packages (from tensorflow==1.15.3->ludwig) (3.2.1)\n",
            "Collecting tensorflow-estimator==1.15.1\n",
            "\u001b[?25l  Downloading https://files.pythonhosted.org/packages/de/62/2ee9cd74c9fa2fa450877847ba560b260f5d0fb70ee0595203082dafcc9d/tensorflow_estimator-1.15.1-py2.py3-none-any.whl (503kB)\n",
            "\u001b[K     |████████████████████████████████| 512kB 35.5MB/s \n",
            "\u001b[?25hRequirement already satisfied: protobuf>=3.6.1 in /usr/local/lib/python3.6/dist-packages (from tensorflow==1.15.3->ludwig) (3.10.0)\n",
            "Collecting tensorboard<1.16.0,>=1.15.0\n",
            "\u001b[?25l  Downloading https://files.pythonhosted.org/packages/1e/e9/d3d747a97f7188f48aa5eda486907f3b345cd409f0a0850468ba867db246/tensorboard-1.15.0-py3-none-any.whl (3.8MB)\n",
            "\u001b[K     |████████████████████████████████| 3.8MB 33.8MB/s \n",
            "\u001b[?25hRequirement already satisfied: keras-applications>=1.0.8 in /usr/local/lib/python3.6/dist-packages (from tensorflow==1.15.3->ludwig) (1.0.8)\n",
            "Requirement already satisfied: termcolor>=1.1.0 in /usr/local/lib/python3.6/dist-packages (from tensorflow==1.15.3->ludwig) (1.1.0)\n",
            "Requirement already satisfied: grpcio>=1.8.6 in /usr/local/lib/python3.6/dist-packages (from tensorflow==1.15.3->ludwig) (1.29.0)\n",
            "Requirement already satisfied: wrapt>=1.11.1 in /usr/local/lib/python3.6/dist-packages (from tensorflow==1.15.3->ludwig) (1.12.1)\n",
            "Requirement already satisfied: setuptools in /usr/local/lib/python3.6/dist-packages (from protobuf>=3.6.1->tensorflow==1.15.3->ludwig) (47.1.1)\n",
            "Requirement already satisfied: markdown>=2.6.8 in /usr/local/lib/python3.6/dist-packages (from tensorboard<1.16.0,>=1.15.0->tensorflow==1.15.3->ludwig) (3.2.2)\n",
            "Requirement already satisfied: werkzeug>=0.11.15 in /usr/local/lib/python3.6/dist-packages (from tensorboard<1.16.0,>=1.15.0->tensorflow==1.15.3->ludwig) (1.0.1)\n",
            "Requirement already satisfied: importlib-metadata; python_version < \"3.8\" in /usr/local/lib/python3.6/dist-packages (from markdown>=2.6.8->tensorboard<1.16.0,>=1.15.0->tensorflow==1.15.3->ludwig) (1.6.0)\n",
            "Requirement already satisfied: zipp>=0.5 in /usr/local/lib/python3.6/dist-packages (from importlib-metadata; python_version < \"3.8\"->markdown>=2.6.8->tensorboard<1.16.0,>=1.15.0->tensorflow==1.15.3->ludwig) (3.1.0)\n",
            "Building wheels for collected packages: ludwig, gast\n",
            "  Building wheel for ludwig (setup.py) ... \u001b[?25l\u001b[?25hdone\n",
            "  Created wheel for ludwig: filename=ludwig-0.2.2.7-cp36-none-any.whl size=236245 sha256=21e14e18325ea6a0efe16f023c2bfdd87363297aecd9365e8695a6832e97e6fd\n",
            "  Stored in directory: /root/.cache/pip/wheels/fa/f3/49/074f3056cf991866d89b5893e6e427573cd169c387087d2230\n",
            "  Building wheel for gast (setup.py) ... \u001b[?25l\u001b[?25hdone\n",
            "  Created wheel for gast: filename=gast-0.2.2-cp36-none-any.whl size=7540 sha256=48966005c1be007b73c5b279c49d0e8180dfd6f40825bf4b65cb37d41d82e22f\n",
            "  Stored in directory: /root/.cache/pip/wheels/5c/2e/7e/a1d4d4fcebe6c381f378ce7743a3ced3699feb89bcfbdadadd\n",
            "Successfully built ludwig gast\n",
            "\u001b[31mERROR: tensorflow-probability 0.10.0 has requirement gast>=0.3.2, but you'll have gast 0.2.2 which is incompatible.\u001b[0m\n",
            "Installing collected packages: gast, tensorflow-estimator, tensorboard, tensorflow, ludwig\n",
            "  Found existing installation: gast 0.3.3\n",
            "    Uninstalling gast-0.3.3:\n",
            "      Successfully uninstalled gast-0.3.3\n",
            "  Found existing installation: tensorflow-estimator 2.2.0\n",
            "    Uninstalling tensorflow-estimator-2.2.0:\n",
            "      Successfully uninstalled tensorflow-estimator-2.2.0\n",
            "  Found existing installation: tensorboard 2.2.2\n",
            "    Uninstalling tensorboard-2.2.2:\n",
            "      Successfully uninstalled tensorboard-2.2.2\n",
            "  Found existing installation: tensorflow 2.2.0\n",
            "    Uninstalling tensorflow-2.2.0:\n",
            "      Successfully uninstalled tensorflow-2.2.0\n",
            "Successfully installed gast-0.2.2 ludwig-0.2.2.7 tensorboard-1.15.0 tensorflow-1.15.3 tensorflow-estimator-1.15.1\n"
          ],
          "name": "stdout"
        }
      ]
    },
    {
      "cell_type": "code",
      "metadata": {
        "id": "Z7_tdD19PNh2",
        "colab_type": "code",
        "colab": {}
      },
      "source": [
        "# Загрузка пакетов\n",
        "import os\n",
        "import pandas as pd\n",
        "from ludwig.api import LudwigModel"
      ],
      "execution_count": 0,
      "outputs": []
    },
    {
      "cell_type": "code",
      "metadata": {
        "id": "9TyLzjCX2iSD",
        "colab_type": "code",
        "colab": {}
      },
      "source": [
        "# Путь к папке с картинками ножей\n",
        "train_path = '/content/drive/My Drive/data/knives/knife/train'\n",
        "\n",
        "# Выписываем эти пути для каждой картинки\n",
        "img_list = []\n",
        "for dirname, _, filenames in os.walk(train_path):\n",
        "    for filename in filenames:\n",
        "        img_list.append(os.path.join(dirname, filename))"
      ],
      "execution_count": 0,
      "outputs": []
    },
    {
      "cell_type": "code",
      "metadata": {
        "id": "sxxRrQ76NYfI",
        "colab_type": "code",
        "colab": {}
      },
      "source": [
        "# Датафрейм для обучения людвига\n",
        "df = pd.DataFrame({\n",
        "    'img': img_list,\n",
        "    'class': [0 for i in img_list],  # всего один класс - ножи\n",
        "})"
      ],
      "execution_count": 0,
      "outputs": []
    },
    {
      "cell_type": "code",
      "metadata": {
        "id": "Z9qzc14fQcGn",
        "colab_type": "code",
        "outputId": "63806ef4-9d95-452f-fb78-70ea2f05793e",
        "colab": {
          "base_uri": "https://localhost:8080/",
          "height": 171
        }
      },
      "source": [
        "# Словарь для модели людвига\n",
        "model_definition = {\n",
        "    \"input_features\": [{\"name\": \"img\",\n",
        "                        \"type\": \"image\",\n",
        "                        \"encoder\": \"stacked_cnn\"}],\n",
        "    \"output_features\": [{'name': 'class',\n",
        "                         \"type\": 'category'}]\n",
        "}\n",
        "\n",
        "# Инициализирую модель\n",
        "model = LudwigModel(model_definition)\n",
        "\n",
        "# Обучение модели\n",
        "train_stats = model.train(df)\n",
        "\n",
        "# Предсказание класса картинки\n",
        "pred = model.predict(df)"
      ],
      "execution_count": 10,
      "outputs": [
        {
          "output_type": "stream",
          "text": [
            "WARNING:tensorflow:From /usr/local/lib/python3.6/dist-packages/ludwig/models/modules/convolutional_modules.py:74: dropout (from tensorflow.python.layers.core) is deprecated and will be removed in a future version.\n",
            "Instructions for updating:\n",
            "Use keras.layers.dropout instead.\n",
            "WARNING:tensorflow:From /usr/local/lib/python3.6/dist-packages/tensorflow_core/python/layers/core.py:271: Layer.apply (from tensorflow.python.keras.engine.base_layer) is deprecated and will be removed in a future version.\n",
            "Instructions for updating:\n",
            "Please use `layer.__call__` method instead.\n",
            "WARNING:tensorflow:From /usr/local/lib/python3.6/dist-packages/ludwig/models/modules/convolutional_modules.py:585: The name tf.nn.max_pool is deprecated. Please use tf.nn.max_pool2d instead.\n",
            "\n"
          ],
          "name": "stdout"
        }
      ]
    },
    {
      "cell_type": "code",
      "metadata": {
        "id": "-IL70OUZ431c",
        "colab_type": "code",
        "colab": {}
      },
      "source": [
        "# Вывести предсказания\n",
        "pred"
      ],
      "execution_count": 0,
      "outputs": []
    }
  ]
}